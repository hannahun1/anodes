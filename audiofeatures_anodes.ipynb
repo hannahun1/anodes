{
  "nbformat": 4,
  "nbformat_minor": 0,
  "metadata": {
    "colab": {
      "provenance": []
    },
    "kernelspec": {
      "name": "python3",
      "display_name": "Python 3"
    },
    "language_info": {
      "name": "python"
    }
  },
  "cells": [
    {
      "cell_type": "markdown",
      "source": [
        "# MFCC, Delta MFCC, and Chroma Lists\n"
      ],
      "metadata": {
        "id": "Tg7oc1ng2m4C"
      }
    },
    {
      "cell_type": "code",
      "source": [
        "import librosa\n",
        "import numpy as np\n",
        "import pandas as pd\n",
        "\n",
        "#@markdown ### Path to your audio file\n",
        "audio_path = '/content/WingsofSorrow.mp3' #@param {type:\"string\"}\n",
        "y, sr = librosa.load(audio_path, sr=None)\n",
        "\n",
        "# Calculate MFCC, Delta MFCC, and Chroma features\n",
        "mfcc = librosa.feature.mfcc(y=y, sr=sr, hop_length=512, n_mfcc=13)\n",
        "mfcc_delta = librosa.feature.delta(mfcc)\n",
        "chroma = librosa.feature.chroma_cqt(y=y, sr=sr)\n",
        "\n",
        "# Determine the total number of frames at 10 frames per second\n",
        "duration_sec = librosa.get_duration(y=y, sr=sr)\n",
        "total_frames = int(duration_sec * 10)\n",
        "\n",
        "# Resample each feature individually\n",
        "features = {'MFCC': mfcc, 'MFCC_delta': mfcc_delta, 'Chroma': chroma}\n",
        "resampled_features = {}\n",
        "for feature_name, feature_data in features.items():\n",
        "    resampled = np.zeros((total_frames, feature_data.shape[0]))\n",
        "    for i in range(feature_data.shape[0]):\n",
        "        resampled[:, i] = np.interp(np.linspace(0, len(feature_data[i])-1, total_frames), np.arange(len(feature_data[i])), feature_data[i])\n",
        "    resampled_features[feature_name] = resampled\n",
        "\n",
        "# Combine all features into a single DataFrame and save it\n",
        "all_features = np.hstack([resampled_features[feature_name] for feature_name in ['Chroma', 'MFCC', 'MFCC_delta']])\n",
        "feature_columns = ['Chroma_' + str(i) for i in range(chroma.shape[0])] + ['MFCC_' + str(i) for i in range(13)] + ['MFCC_delta_' + str(i) for i in range(13)]\n",
        "features_df = pd.DataFrame(all_features, columns=feature_columns)\n",
        "features_df.to_csv('/content/continuous_mfcc_features.csv', index=False)\n",
        "print(\"Continuous MFCC, Delta MFCC, and Chroma features extracted and saved.\")\n",
        "\n",
        "# Load the DataFrame from the saved CSV file\n",
        "features_df = pd.read_csv('/content/continuous_mfcc_features.csv')\n",
        "\n",
        "# Function to normalize and save each feature column as a list in a text file\n",
        "def save_and_normalize_features(df, prefix='/content/'):\n",
        "    for column in df.columns:\n",
        "        # Select and normalize the column\n",
        "        data = df[column]\n",
        "        normalized_data = (data - data.min()) / (data.max() - data.min())\n",
        "\n",
        "        # Round the normalized data to two decimal places\n",
        "        normalized_data = normalized_data.round(2)\n",
        "\n",
        "        # Write formatted data to a file\n",
        "        output_path = f\"{prefix}{column}.txt\"\n",
        "        with open(output_path, 'w') as file:\n",
        "            formatted_data = ',\\n'.join([f\"{i + 1}:({value})\" for i, value in enumerate(normalized_data)])\n",
        "            file.write(formatted_data)\n",
        "        print(f\"Data for {column} saved to: {output_path}\")\n",
        "\n",
        "# Normalize and save all columns as separate lists in text files\n",
        "save_and_normalize_features(features_df)"
      ],
      "metadata": {
        "colab": {
          "base_uri": "https://localhost:8080/"
        },
        "id": "pTU0VuUY13Bx",
        "outputId": "d8d96ded-245c-40c1-f0b4-dd778e31ad32"
      },
      "execution_count": 1,
      "outputs": [
        {
          "output_type": "stream",
          "name": "stdout",
          "text": [
            "Continuous MFCC, Delta MFCC, and Chroma features extracted and saved.\n",
            "Data for Chroma_0 saved to: /content/Chroma_0.txt\n",
            "Data for Chroma_1 saved to: /content/Chroma_1.txt\n",
            "Data for Chroma_2 saved to: /content/Chroma_2.txt\n",
            "Data for Chroma_3 saved to: /content/Chroma_3.txt\n",
            "Data for Chroma_4 saved to: /content/Chroma_4.txt\n",
            "Data for Chroma_5 saved to: /content/Chroma_5.txt\n",
            "Data for Chroma_6 saved to: /content/Chroma_6.txt\n",
            "Data for Chroma_7 saved to: /content/Chroma_7.txt\n",
            "Data for Chroma_8 saved to: /content/Chroma_8.txt\n",
            "Data for Chroma_9 saved to: /content/Chroma_9.txt\n",
            "Data for Chroma_10 saved to: /content/Chroma_10.txt\n",
            "Data for Chroma_11 saved to: /content/Chroma_11.txt\n",
            "Data for MFCC_0 saved to: /content/MFCC_0.txt\n",
            "Data for MFCC_1 saved to: /content/MFCC_1.txt\n",
            "Data for MFCC_2 saved to: /content/MFCC_2.txt\n",
            "Data for MFCC_3 saved to: /content/MFCC_3.txt\n",
            "Data for MFCC_4 saved to: /content/MFCC_4.txt\n",
            "Data for MFCC_5 saved to: /content/MFCC_5.txt\n",
            "Data for MFCC_6 saved to: /content/MFCC_6.txt\n",
            "Data for MFCC_7 saved to: /content/MFCC_7.txt\n",
            "Data for MFCC_8 saved to: /content/MFCC_8.txt\n",
            "Data for MFCC_9 saved to: /content/MFCC_9.txt\n",
            "Data for MFCC_10 saved to: /content/MFCC_10.txt\n",
            "Data for MFCC_11 saved to: /content/MFCC_11.txt\n",
            "Data for MFCC_12 saved to: /content/MFCC_12.txt\n",
            "Data for MFCC_delta_0 saved to: /content/MFCC_delta_0.txt\n",
            "Data for MFCC_delta_1 saved to: /content/MFCC_delta_1.txt\n",
            "Data for MFCC_delta_2 saved to: /content/MFCC_delta_2.txt\n",
            "Data for MFCC_delta_3 saved to: /content/MFCC_delta_3.txt\n",
            "Data for MFCC_delta_4 saved to: /content/MFCC_delta_4.txt\n",
            "Data for MFCC_delta_5 saved to: /content/MFCC_delta_5.txt\n",
            "Data for MFCC_delta_6 saved to: /content/MFCC_delta_6.txt\n",
            "Data for MFCC_delta_7 saved to: /content/MFCC_delta_7.txt\n",
            "Data for MFCC_delta_8 saved to: /content/MFCC_delta_8.txt\n",
            "Data for MFCC_delta_9 saved to: /content/MFCC_delta_9.txt\n",
            "Data for MFCC_delta_10 saved to: /content/MFCC_delta_10.txt\n",
            "Data for MFCC_delta_11 saved to: /content/MFCC_delta_11.txt\n",
            "Data for MFCC_delta_12 saved to: /content/MFCC_delta_12.txt\n"
          ]
        }
      ]
    },
    {
      "cell_type": "markdown",
      "source": [
        "# Simple Beat Times Lists"
      ],
      "metadata": {
        "id": "QKPymmEf2FyP"
      }
    },
    {
      "cell_type": "code",
      "source": [
        "import os\n",
        "import librosa\n",
        "import numpy as np\n",
        "\n",
        "#@markdown ### Path to your audio file\n",
        "audio_path = \"/content/Mechanical_Mirage.mp3\" #@param {type:\"string\"}\n",
        "\n",
        "# Load the audio file\n",
        "y, sr = librosa.load(audio_path, sr=None)\n",
        "# Extract tempo and beats\n",
        "tempo, beats = librosa.beat.beat_track(y=y, sr=sr)\n",
        "beat_times = librosa.frames_to_time(beats, sr=sr)\n",
        "\n",
        "# Round beat times to hundredth of a second\n",
        "beat_times_rounded = [round(time, 2) for time in beat_times]\n",
        "# Calculate frame numbers at 10 fps based on beat times\n",
        "frame_numbers_10fps = [int(time * 10) for time in beat_times_rounded]\n",
        "max_frame = max(frame_numbers_10fps)\n",
        "\n",
        "# Initialize switch and inverse switch frames\n",
        "current_state = 0\n",
        "switch_frames = []\n",
        "invert_switch_frames = []\n",
        "for i in range(max_frame + 1):\n",
        "    if i in frame_numbers_10fps:\n",
        "        current_state = 1 - current_state  # Toggle between 0 and 1\n",
        "    switch_frames.append(f\"{i + 1}:({current_state})\")\n",
        "    invert_switch_frames.append(f\"{i + 1}:({1 - current_state})\")\n",
        "\n",
        "# Save the switch effect frames\n",
        "output_path_switch = '/content/beattimes_switch.txt'\n",
        "with open(output_path_switch, 'w') as file:\n",
        "    file.write(',\\n'.join(switch_frames))\n",
        "print(f\"Switch effect frame list saved to: {output_path_switch}\")\n",
        "\n",
        "# Save the inverse switch effect frames\n",
        "output_path_invert_switch = '/content/invert_beattimes_switch.txt'\n",
        "with open(output_path_invert_switch, 'w') as file:\n",
        "    file.write(',\\n'.join(invert_switch_frames))\n",
        "print(f\"Inverse switch effect frame list saved to: {output_path_invert_switch}\")\n",
        "\n",
        "# Function to interpolate beat changes with smooth gradient\n",
        "def interpolate_beat_changes(beat_times, fps=10):\n",
        "    frame_numbers = [int(time * fps) for time in beat_times]\n",
        "    beat_wave = np.zeros(max(frame_numbers) + 1)\n",
        "    for i in range(len(frame_numbers) - 1):\n",
        "        start_frame = frame_numbers[i]\n",
        "        end_frame = frame_numbers[i + 1]\n",
        "        beat_wave[start_frame:end_frame] = np.linspace(0, 1, end_frame - start_frame, endpoint=False)\n",
        "    return beat_wave\n",
        "\n",
        "# Generate and save the continuous beat wave\n",
        "beat_wave = interpolate_beat_changes(beat_times_rounded)\n",
        "output_path_wave = '/content/beatwaves.txt'\n",
        "with open(output_path_wave, 'w') as file:\n",
        "    formatted_data_wave = ',\\n'.join([f\"{i + 1}:({value:.2f})\" for i, value in enumerate(beat_wave)])\n",
        "    file.write(formatted_data_wave)\n",
        "print(f\"Continuous beat wave data saved to: {output_path_wave}\")\n",
        "\n",
        "# Generate and save the inverse continuous beat wave\n",
        "inverse_beat_wave = 1 - beat_wave\n",
        "output_path_inverse_wave = '/content/invert_beatwaves.txt'\n",
        "with open(output_path_inverse_wave, 'w') as file:\n",
        "    formatted_data_inverse_wave = ',\\n'.join([f\"{i + 1}:({value:.2f})\" for i, value in enumerate(inverse_beat_wave)])\n",
        "    file.write(formatted_data_inverse_wave)\n",
        "print(f\"Inverse continuous beat wave data saved to: {output_path_inverse_wave}\")"
      ],
      "metadata": {
        "colab": {
          "base_uri": "https://localhost:8080/"
        },
        "id": "Oz8JVYDwy-rw",
        "outputId": "4f6572a2-679b-4573-9208-c38fcd98a143"
      },
      "execution_count": null,
      "outputs": [
        {
          "output_type": "stream",
          "name": "stdout",
          "text": [
            "Switch effect frame list saved to: /content/beattimes_switch.txt\n",
            "Inverse switch effect frame list saved to: /content/invert_beattimes_switch.txt\n",
            "Continuous beat wave data saved to: /content/beatwaves.txt\n",
            "Inverse continuous beat wave data saved to: /content/invert_beatwaves.txt\n"
          ]
        }
      ]
    }
  ]
}