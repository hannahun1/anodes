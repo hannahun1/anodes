{
  "nbformat": 4,
  "nbformat_minor": 0,
  "metadata": {
    "colab": {
      "provenance": []
    },
    "kernelspec": {
      "name": "python3",
      "display_name": "Python 3"
    },
    "language_info": {
      "name": "python"
    }
  },
  "cells": [
    {
      "cell_type": "code",
      "source": [
        "import os\n",
        "import librosa\n",
        "import numpy as np\n",
        "\n",
        "#@markdown ### Path to your audio file\n",
        "audio_path = \"/content/Mechanical_Mirage.mp3\" #@param {type:\"string\"}\n",
        "\n",
        "# Load the audio file\n",
        "y, sr = librosa.load(audio_path, sr=None)\n",
        "# Extract tempo and beats\n",
        "tempo, beats = librosa.beat.beat_track(y=y, sr=sr)\n",
        "beat_times = librosa.frames_to_time(beats, sr=sr)\n",
        "\n",
        "# Round beat times to hundredth of a second\n",
        "beat_times_rounded = [round(time, 2) for time in beat_times]\n",
        "# Calculate frame numbers at 10 fps based on beat times\n",
        "frame_numbers_10fps = [int(time * 10) for time in beat_times_rounded]\n",
        "max_frame = max(frame_numbers_10fps)\n",
        "\n",
        "# Initialize switch and inverse switch frames\n",
        "current_state = 0\n",
        "switch_frames = []\n",
        "invert_switch_frames = []\n",
        "for i in range(max_frame + 1):\n",
        "    if i in frame_numbers_10fps:\n",
        "        current_state = 1 - current_state  # Toggle between 0 and 1\n",
        "    switch_frames.append(f\"{i + 1}:({current_state})\")\n",
        "    invert_switch_frames.append(f\"{i + 1}:({1 - current_state})\")\n",
        "\n",
        "# Save the switch effect frames\n",
        "output_path_switch = '/content/beattimes_switch.txt'\n",
        "with open(output_path_switch, 'w') as file:\n",
        "    file.write(',\\n'.join(switch_frames))\n",
        "print(f\"Switch effect frame list saved to: {output_path_switch}\")\n",
        "\n",
        "# Save the inverse switch effect frames\n",
        "output_path_invert_switch = '/content/invert_beattimes_switch.txt'\n",
        "with open(output_path_invert_switch, 'w') as file:\n",
        "    file.write(',\\n'.join(invert_switch_frames))\n",
        "print(f\"Inverse switch effect frame list saved to: {output_path_invert_switch}\")\n",
        "\n",
        "# Function to interpolate beat changes with smooth gradient\n",
        "def interpolate_beat_changes(beat_times, fps=10):\n",
        "    frame_numbers = [int(time * fps) for time in beat_times]\n",
        "    beat_wave = np.zeros(max(frame_numbers) + 1)\n",
        "    for i in range(len(frame_numbers) - 1):\n",
        "        start_frame = frame_numbers[i]\n",
        "        end_frame = frame_numbers[i + 1]\n",
        "        beat_wave[start_frame:end_frame] = np.linspace(0, 1, end_frame - start_frame, endpoint=False)\n",
        "    return beat_wave\n",
        "\n",
        "# Generate and save the continuous beat wave\n",
        "beat_wave = interpolate_beat_changes(beat_times_rounded)\n",
        "output_path_wave = '/content/beatwaves.txt'\n",
        "with open(output_path_wave, 'w') as file:\n",
        "    formatted_data_wave = ',\\n'.join([f\"{i + 1}:({value:.2f})\" for i, value in enumerate(beat_wave)])\n",
        "    file.write(formatted_data_wave)\n",
        "print(f\"Continuous beat wave data saved to: {output_path_wave}\")\n",
        "\n",
        "# Generate and save the inverse continuous beat wave\n",
        "inverse_beat_wave = 1 - beat_wave\n",
        "output_path_inverse_wave = '/content/invert_beatwaves.txt'\n",
        "with open(output_path_inverse_wave, 'w') as file:\n",
        "    formatted_data_inverse_wave = ',\\n'.join([f\"{i + 1}:({value:.2f})\" for i, value in enumerate(inverse_beat_wave)])\n",
        "    file.write(formatted_data_inverse_wave)\n",
        "print(f\"Inverse continuous beat wave data saved to: {output_path_inverse_wave}\")"
      ],
      "metadata": {
        "colab": {
          "base_uri": "https://localhost:8080/"
        },
        "id": "Oz8JVYDwy-rw",
        "outputId": "4f6572a2-679b-4573-9208-c38fcd98a143"
      },
      "execution_count": 2,
      "outputs": [
        {
          "output_type": "stream",
          "name": "stdout",
          "text": [
            "Switch effect frame list saved to: /content/beattimes_switch.txt\n",
            "Inverse switch effect frame list saved to: /content/invert_beattimes_switch.txt\n",
            "Continuous beat wave data saved to: /content/beatwaves.txt\n",
            "Inverse continuous beat wave data saved to: /content/invert_beatwaves.txt\n"
          ]
        }
      ]
    }
  ]
}